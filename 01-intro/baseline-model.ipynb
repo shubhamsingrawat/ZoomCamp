{
 "cells": [
  {
   "cell_type": "code",
   "execution_count": 1,
   "id": "c4e2d8d8",
   "metadata": {
    "_cell_guid": "b1076dfc-b9ad-4769-8c92-a6c4dae69d19",
    "_uuid": "8f2839f25d086af736a60e9eeb907d3b93b6e0e5",
    "execution": {
     "iopub.execute_input": "2024-06-25T18:42:17.019813Z",
     "iopub.status.busy": "2024-06-25T18:42:17.019295Z",
     "iopub.status.idle": "2024-06-25T18:42:18.219711Z",
     "shell.execute_reply": "2024-06-25T18:42:18.217440Z"
    },
    "papermill": {
     "duration": 1.220006,
     "end_time": "2024-06-25T18:42:18.223272",
     "exception": false,
     "start_time": "2024-06-25T18:42:17.003266",
     "status": "completed"
    },
    "tags": []
   },
   "outputs": [],
   "source": [
    "import numpy as np \n",
    "import pandas as pd\n",
    "import matplotlib.pyplot as plt\n",
    "import seaborn as sns\n",
    "from sklearn.model_selection import train_test_split\n",
    "from sklearn.linear_model import LogisticRegression\n",
    "from sklearn.metrics import accuracy_score\n",
    "import warnings\n",
    "warnings.filterwarnings('ignore')"
   ]
  },
  {
   "cell_type": "markdown",
   "id": "ecb831b2",
   "metadata": {},
   "source": [
    "Problem Statement: Data with health care attributes and other personal details to classify if the person gets stroke or not based on their health atrributes"
   ]
  },
  {
   "cell_type": "markdown",
   "id": "e2753858",
   "metadata": {
    "papermill": {
     "duration": 0.011324,
     "end_time": "2024-06-25T18:42:18.248500",
     "exception": false,
     "start_time": "2024-06-25T18:42:18.237176",
     "status": "completed"
    },
    "tags": []
   },
   "source": [
    "# Data Loading and Analysis\n"
   ]
  },
  {
   "cell_type": "code",
   "execution_count": 2,
   "id": "8874e6b2",
   "metadata": {
    "execution": {
     "iopub.execute_input": "2024-06-25T18:42:18.272459Z",
     "iopub.status.busy": "2024-06-25T18:42:18.271811Z",
     "iopub.status.idle": "2024-06-25T18:42:18.371180Z",
     "shell.execute_reply": "2024-06-25T18:42:18.369531Z"
    },
    "papermill": {
     "duration": 0.115282,
     "end_time": "2024-06-25T18:42:18.374586",
     "exception": false,
     "start_time": "2024-06-25T18:42:18.259304",
     "status": "completed"
    },
    "tags": []
   },
   "outputs": [
    {
     "data": {
      "text/html": [
       "<div>\n",
       "<style scoped>\n",
       "    .dataframe tbody tr th:only-of-type {\n",
       "        vertical-align: middle;\n",
       "    }\n",
       "\n",
       "    .dataframe tbody tr th {\n",
       "        vertical-align: top;\n",
       "    }\n",
       "\n",
       "    .dataframe thead th {\n",
       "        text-align: right;\n",
       "    }\n",
       "</style>\n",
       "<table border=\"1\" class=\"dataframe\">\n",
       "  <thead>\n",
       "    <tr style=\"text-align: right;\">\n",
       "      <th></th>\n",
       "      <th>id</th>\n",
       "      <th>age</th>\n",
       "      <th>hypertension</th>\n",
       "      <th>heart_disease</th>\n",
       "      <th>avg_glucose_level</th>\n",
       "      <th>bmi</th>\n",
       "      <th>stroke</th>\n",
       "    </tr>\n",
       "  </thead>\n",
       "  <tbody>\n",
       "    <tr>\n",
       "      <th>count</th>\n",
       "      <td>5110.000000</td>\n",
       "      <td>5110.000000</td>\n",
       "      <td>5110.000000</td>\n",
       "      <td>5110.000000</td>\n",
       "      <td>5110.000000</td>\n",
       "      <td>4909.000000</td>\n",
       "      <td>5110.000000</td>\n",
       "    </tr>\n",
       "    <tr>\n",
       "      <th>mean</th>\n",
       "      <td>36517.829354</td>\n",
       "      <td>43.226614</td>\n",
       "      <td>0.097456</td>\n",
       "      <td>0.054012</td>\n",
       "      <td>106.147677</td>\n",
       "      <td>28.893237</td>\n",
       "      <td>0.048728</td>\n",
       "    </tr>\n",
       "    <tr>\n",
       "      <th>std</th>\n",
       "      <td>21161.721625</td>\n",
       "      <td>22.612647</td>\n",
       "      <td>0.296607</td>\n",
       "      <td>0.226063</td>\n",
       "      <td>45.283560</td>\n",
       "      <td>7.854067</td>\n",
       "      <td>0.215320</td>\n",
       "    </tr>\n",
       "    <tr>\n",
       "      <th>min</th>\n",
       "      <td>67.000000</td>\n",
       "      <td>0.080000</td>\n",
       "      <td>0.000000</td>\n",
       "      <td>0.000000</td>\n",
       "      <td>55.120000</td>\n",
       "      <td>10.300000</td>\n",
       "      <td>0.000000</td>\n",
       "    </tr>\n",
       "    <tr>\n",
       "      <th>25%</th>\n",
       "      <td>17741.250000</td>\n",
       "      <td>25.000000</td>\n",
       "      <td>0.000000</td>\n",
       "      <td>0.000000</td>\n",
       "      <td>77.245000</td>\n",
       "      <td>23.500000</td>\n",
       "      <td>0.000000</td>\n",
       "    </tr>\n",
       "    <tr>\n",
       "      <th>50%</th>\n",
       "      <td>36932.000000</td>\n",
       "      <td>45.000000</td>\n",
       "      <td>0.000000</td>\n",
       "      <td>0.000000</td>\n",
       "      <td>91.885000</td>\n",
       "      <td>28.100000</td>\n",
       "      <td>0.000000</td>\n",
       "    </tr>\n",
       "    <tr>\n",
       "      <th>75%</th>\n",
       "      <td>54682.000000</td>\n",
       "      <td>61.000000</td>\n",
       "      <td>0.000000</td>\n",
       "      <td>0.000000</td>\n",
       "      <td>114.090000</td>\n",
       "      <td>33.100000</td>\n",
       "      <td>0.000000</td>\n",
       "    </tr>\n",
       "    <tr>\n",
       "      <th>max</th>\n",
       "      <td>72940.000000</td>\n",
       "      <td>82.000000</td>\n",
       "      <td>1.000000</td>\n",
       "      <td>1.000000</td>\n",
       "      <td>271.740000</td>\n",
       "      <td>97.600000</td>\n",
       "      <td>1.000000</td>\n",
       "    </tr>\n",
       "  </tbody>\n",
       "</table>\n",
       "</div>"
      ],
      "text/plain": [
       "                 id          age  hypertension  heart_disease  \\\n",
       "count   5110.000000  5110.000000   5110.000000    5110.000000   \n",
       "mean   36517.829354    43.226614      0.097456       0.054012   \n",
       "std    21161.721625    22.612647      0.296607       0.226063   \n",
       "min       67.000000     0.080000      0.000000       0.000000   \n",
       "25%    17741.250000    25.000000      0.000000       0.000000   \n",
       "50%    36932.000000    45.000000      0.000000       0.000000   \n",
       "75%    54682.000000    61.000000      0.000000       0.000000   \n",
       "max    72940.000000    82.000000      1.000000       1.000000   \n",
       "\n",
       "       avg_glucose_level          bmi       stroke  \n",
       "count        5110.000000  4909.000000  5110.000000  \n",
       "mean          106.147677    28.893237     0.048728  \n",
       "std            45.283560     7.854067     0.215320  \n",
       "min            55.120000    10.300000     0.000000  \n",
       "25%            77.245000    23.500000     0.000000  \n",
       "50%            91.885000    28.100000     0.000000  \n",
       "75%           114.090000    33.100000     0.000000  \n",
       "max           271.740000    97.600000     1.000000  "
      ]
     },
     "execution_count": 2,
     "metadata": {},
     "output_type": "execute_result"
    }
   ],
   "source": [
    "data = pd.read_csv('healthcare-dataset.csv')\n",
    "data.describe()"
   ]
  },
  {
   "cell_type": "code",
   "execution_count": 3,
   "id": "0b42542b",
   "metadata": {
    "execution": {
     "iopub.execute_input": "2024-06-25T18:42:18.398346Z",
     "iopub.status.busy": "2024-06-25T18:42:18.397824Z",
     "iopub.status.idle": "2024-06-25T18:42:18.430393Z",
     "shell.execute_reply": "2024-06-25T18:42:18.428738Z"
    },
    "papermill": {
     "duration": 0.048958,
     "end_time": "2024-06-25T18:42:18.434325",
     "exception": false,
     "start_time": "2024-06-25T18:42:18.385367",
     "status": "completed"
    },
    "tags": []
   },
   "outputs": [
    {
     "name": "stdout",
     "output_type": "stream",
     "text": [
      "<class 'pandas.core.frame.DataFrame'>\n",
      "RangeIndex: 5110 entries, 0 to 5109\n",
      "Data columns (total 12 columns):\n",
      " #   Column             Non-Null Count  Dtype  \n",
      "---  ------             --------------  -----  \n",
      " 0   id                 5110 non-null   int64  \n",
      " 1   gender             5110 non-null   object \n",
      " 2   age                5110 non-null   float64\n",
      " 3   hypertension       5110 non-null   int64  \n",
      " 4   heart_disease      5110 non-null   int64  \n",
      " 5   ever_married       5110 non-null   object \n",
      " 6   work_type          5110 non-null   object \n",
      " 7   Residence_type     5110 non-null   object \n",
      " 8   avg_glucose_level  5110 non-null   float64\n",
      " 9   bmi                4909 non-null   float64\n",
      " 10  smoking_status     5110 non-null   object \n",
      " 11  stroke             5110 non-null   int64  \n",
      "dtypes: float64(3), int64(4), object(5)\n",
      "memory usage: 479.2+ KB\n"
     ]
    }
   ],
   "source": [
    "data.info()"
   ]
  },
  {
   "cell_type": "markdown",
   "id": "2be7f0d6",
   "metadata": {
    "papermill": {
     "duration": 0.010002,
     "end_time": "2024-06-25T18:42:18.455043",
     "exception": false,
     "start_time": "2024-06-25T18:42:18.445041",
     "status": "completed"
    },
    "tags": []
   },
   "source": [
    "** Few Early Observations**\n",
    "\n",
    "1. There are 3 binary featuers - {hypertension,heart_disease,stroke'}\n",
    "2. There are 2 numerical Features which needs normalization('Bmi, glucose_level and age')\n",
    "3. We need to convert categorical variables to numerical values.\n",
    "4. Features are less. Need to create custom featurs."
   ]
  },
  {
   "cell_type": "code",
   "execution_count": 4,
   "id": "7c6bc3a7",
   "metadata": {
    "execution": {
     "iopub.execute_input": "2024-06-25T18:42:18.480700Z",
     "iopub.status.busy": "2024-06-25T18:42:18.479536Z",
     "iopub.status.idle": "2024-06-25T18:42:18.526933Z",
     "shell.execute_reply": "2024-06-25T18:42:18.525358Z"
    },
    "papermill": {
     "duration": 0.064229,
     "end_time": "2024-06-25T18:42:18.530129",
     "exception": false,
     "start_time": "2024-06-25T18:42:18.465900",
     "status": "completed"
    },
    "tags": []
   },
   "outputs": [
    {
     "data": {
      "text/plain": [
       "id                     0\n",
       "gender                 0\n",
       "age                    0\n",
       "hypertension           0\n",
       "heart_disease          0\n",
       "ever_married           0\n",
       "work_type              0\n",
       "Residence_type         0\n",
       "avg_glucose_level      0\n",
       "bmi                  201\n",
       "smoking_status         0\n",
       "stroke                 0\n",
       "dtype: int64"
      ]
     },
     "metadata": {},
     "output_type": "display_data"
    },
    {
     "data": {
      "text/plain": [
       "(5110, 12)"
      ]
     },
     "metadata": {},
     "output_type": "display_data"
    }
   ],
   "source": [
    "#looking for some basic data discrepency\n",
    "display(data.isnull().sum())\n",
    "display(data.shape)"
   ]
  },
  {
   "cell_type": "code",
   "execution_count": 5,
   "id": "b71fc05b",
   "metadata": {
    "execution": {
     "iopub.execute_input": "2024-06-25T18:42:18.554692Z",
     "iopub.status.busy": "2024-06-25T18:42:18.554214Z",
     "iopub.status.idle": "2024-06-25T18:42:21.903805Z",
     "shell.execute_reply": "2024-06-25T18:42:21.902365Z"
    },
    "papermill": {
     "duration": 3.36619,
     "end_time": "2024-06-25T18:42:21.907346",
     "exception": false,
     "start_time": "2024-06-25T18:42:18.541156",
     "status": "completed"
    },
    "tags": []
   },
   "outputs": [
    {
     "data": {
      "image/png": "[encoded data removed]",
      "text/plain": [
       "<Figure size 1500x500 with 3 Axes>"
      ]
     },
     "metadata": {},
     "output_type": "display_data"
    }
   ],
   "source": [
    "plt.style.use('ggplot')\n",
    "\n",
    "plots = ['age', 'avg_glucose_level', 'bmi']\n",
    "\n",
    "plt.figure(figsize=(15, 5))  # Adjust figsize to fit all plots comfortably\n",
    "\n",
    "for i, column in enumerate(plots):\n",
    "    plt.subplot(1, 3, i+1)\n",
    "    sns.histplot(data[column], color='black', bins='auto', kde=True)\n",
    "    plt.title(column)\n",
    "    plt.grid(True)\n",
    "\n",
    "plt.tight_layout()  \n",
    "plt.show()\n"
   ]
  },
  {
   "cell_type": "markdown",
   "id": "fae0200e",
   "metadata": {
    "papermill": {
     "duration": 0.012044,
     "end_time": "2024-06-25T18:42:21.932433",
     "exception": false,
     "start_time": "2024-06-25T18:42:21.920389",
     "status": "completed"
    },
    "tags": []
   },
   "source": [
    "**The distribution of values of avg-glucose_level is not a normal distribution**\n",
    "\n",
    "**avg_glucose_level seems to be skewed plus is multimodel distribution so MinMaxScaler and StandardScaler might not work here**"
   ]
  },
  {
   "cell_type": "markdown",
   "id": "d0541414",
   "metadata": {
    "papermill": {
     "duration": 0.011685,
     "end_time": "2024-06-25T18:42:21.956187",
     "exception": false,
     "start_time": "2024-06-25T18:42:21.944502",
     "status": "completed"
    },
    "tags": []
   },
   "source": [
    "**No duplicate values in the data**\n",
    "\n",
    "**For missing values in the BMI imputation, going to use  mean  value  for imputation as the distribution of the bmi data seems to be a normal distribution**"
   ]
  },
  {
   "cell_type": "code",
   "execution_count": 6,
   "id": "3658ed2c",
   "metadata": {
    "execution": {
     "iopub.execute_input": "2024-06-25T18:42:21.983860Z",
     "iopub.status.busy": "2024-06-25T18:42:21.982837Z",
     "iopub.status.idle": "2024-06-25T18:42:22.483337Z",
     "shell.execute_reply": "2024-06-25T18:42:22.481850Z"
    },
    "papermill": {
     "duration": 0.5184,
     "end_time": "2024-06-25T18:42:22.486701",
     "exception": false,
     "start_time": "2024-06-25T18:42:21.968301",
     "status": "completed"
    },
    "tags": []
   },
   "outputs": [],
   "source": [
    "from sklearn.impute import SimpleImputer\n",
    "from sklearn.preprocessing import MinMaxScaler\n",
    "from sklearn.preprocessing import OneHotEncoder"
   ]
  },
  {
   "cell_type": "code",
   "execution_count": 7,
   "id": "02ff6702",
   "metadata": {
    "execution": {
     "iopub.execute_input": "2024-06-25T18:42:22.516476Z",
     "iopub.status.busy": "2024-06-25T18:42:22.516017Z",
     "iopub.status.idle": "2024-06-25T18:42:22.535590Z",
     "shell.execute_reply": "2024-06-25T18:42:22.534136Z"
    },
    "papermill": {
     "duration": 0.038689,
     "end_time": "2024-06-25T18:42:22.539089",
     "exception": false,
     "start_time": "2024-06-25T18:42:22.500400",
     "status": "completed"
    },
    "tags": []
   },
   "outputs": [],
   "source": [
    "#1st impute/fill the missing values\n",
    "#only BMI has missing values \n",
    "imputer = SimpleImputer(strategy = 'mean')\n",
    "data['bmi']=imputer.fit_transform(data[['bmi']])\n",
    "encoded_data= data.copy()\n",
    "#2nd Scale down the numerical features\n",
    "features_to_scale=['age','bmi']\n",
    "scaler = MinMaxScaler()\n",
    "encoded_data[features_to_scale]=scaler.fit_transform(encoded_data[features_to_scale])"
   ]
  },
  {
   "cell_type": "code",
   "execution_count": 8,
   "id": "292d500f",
   "metadata": {
    "execution": {
     "iopub.execute_input": "2024-06-25T18:42:22.568831Z",
     "iopub.status.busy": "2024-06-25T18:42:22.567768Z",
     "iopub.status.idle": "2024-06-25T18:42:22.584281Z",
     "shell.execute_reply": "2024-06-25T18:42:22.582820Z"
    },
    "papermill": {
     "duration": 0.034517,
     "end_time": "2024-06-25T18:42:22.587542",
     "exception": false,
     "start_time": "2024-06-25T18:42:22.553025",
     "status": "completed"
    },
    "tags": []
   },
   "outputs": [],
   "source": [
    "#as the 'avg glucose level dosent have a normal distribution hence i am usign QuantileTransformer here \n",
    "from sklearn.preprocessing import QuantileTransformer\n",
    "\n",
    "# Initialize QuantileTransformer\n",
    "scaler = QuantileTransformer(output_distribution='uniform')\n",
    "\n",
    "# Apply quantile transformation to avg_glucose_level\n",
    "encoded_data['avg_glucose_level'] = scaler.fit_transform(encoded_data[['avg_glucose_level']])\n"
   ]
  },
  {
   "cell_type": "code",
   "execution_count": 9,
   "id": "4b1fdb64",
   "metadata": {
    "execution": {
     "iopub.execute_input": "2024-06-25T18:42:22.616135Z",
     "iopub.status.busy": "2024-06-25T18:42:22.615644Z",
     "iopub.status.idle": "2024-06-25T18:42:22.627510Z",
     "shell.execute_reply": "2024-06-25T18:42:22.626101Z"
    },
    "papermill": {
     "duration": 0.030642,
     "end_time": "2024-06-25T18:42:22.630765",
     "exception": false,
     "start_time": "2024-06-25T18:42:22.600123",
     "status": "completed"
    },
    "tags": []
   },
   "outputs": [
    {
     "data": {
      "text/plain": [
       "Index(['id', 'gender', 'age', 'hypertension', 'heart_disease', 'ever_married',\n",
       "       'work_type', 'Residence_type', 'avg_glucose_level', 'bmi',\n",
       "       'smoking_status', 'stroke'],\n",
       "      dtype='object')"
      ]
     },
     "execution_count": 9,
     "metadata": {},
     "output_type": "execute_result"
    }
   ],
   "source": [
    "df = encoded_data.copy()\n",
    "df.columns"
   ]
  },
  {
   "cell_type": "code",
   "execution_count": 10,
   "id": "693b7b23",
   "metadata": {
    "execution": {
     "iopub.execute_input": "2024-06-25T18:42:22.658515Z",
     "iopub.status.busy": "2024-06-25T18:42:22.658031Z",
     "iopub.status.idle": "2024-06-25T18:42:22.686722Z",
     "shell.execute_reply": "2024-06-25T18:42:22.685425Z"
    },
    "papermill": {
     "duration": 0.046323,
     "end_time": "2024-06-25T18:42:22.689774",
     "exception": false,
     "start_time": "2024-06-25T18:42:22.643451",
     "status": "completed"
    },
    "tags": []
   },
   "outputs": [],
   "source": [
    "# List of columns to one-hot encode\n",
    "columns_to_encode = ['Residence_type', 'work_type', 'smoking_status','ever_married','gender']\n",
    "\n",
    "# Iterate through each column and apply pd.get_dummies\n",
    "for column in columns_to_encode:\n",
    "    encoded_column = pd.get_dummies(df[column], prefix=column)\n",
    "    df = pd.concat([df, encoded_column], axis=1)\n",
    "    df = df.drop(columns=[column],axis=1)\n",
    "\n",
    "# Convert boolean to integers\n",
    "df = df.astype(int)\n"
   ]
  },
  {
   "cell_type": "code",
   "execution_count": 11,
   "id": "ed7c7881",
   "metadata": {
    "execution": {
     "iopub.execute_input": "2024-06-25T18:42:22.717756Z",
     "iopub.status.busy": "2024-06-25T18:42:22.717288Z",
     "iopub.status.idle": "2024-06-25T18:42:22.774866Z",
     "shell.execute_reply": "2024-06-25T18:42:22.773489Z"
    },
    "papermill": {
     "duration": 0.0752,
     "end_time": "2024-06-25T18:42:22.777985",
     "exception": false,
     "start_time": "2024-06-25T18:42:22.702785",
     "status": "completed"
    },
    "tags": []
   },
   "outputs": [],
   "source": [
    "df.drop('id',axis=1,inplace=True)"
   ]
  },
  {
   "cell_type": "markdown",
   "id": "8e6ac31e",
   "metadata": {
    "papermill": {
     "duration": 0.012015,
     "end_time": "2024-06-25T18:42:22.802458",
     "exception": false,
     "start_time": "2024-06-25T18:42:22.790443",
     "status": "completed"
    },
    "tags": []
   },
   "source": [
    "**The data now has around 23 features **\n",
    "\n",
    "**The dataframe 'df' now has clean data**"
   ]
  },
  {
   "cell_type": "code",
   "execution_count": 12,
   "id": "3f300859",
   "metadata": {},
   "outputs": [],
   "source": [
    "df.drop(['Residence_type_Rural','work_type_Private','smoking_status_Unknown', 'smoking_status_formerly smoked',\n",
    "         'ever_married_Yes', 'gender_Male'], axis=1, inplace=True)"
   ]
  },
  {
   "cell_type": "code",
   "execution_count": 13,
   "id": "26f8cd00",
   "metadata": {},
   "outputs": [
    {
     "data": {
      "text/plain": [
       "Index(['age', 'hypertension', 'heart_disease', 'avg_glucose_level', 'bmi',\n",
       "       'stroke', 'Residence_type_Urban', 'work_type_Govt_job',\n",
       "       'work_type_Never_worked', 'work_type_Self-employed',\n",
       "       'work_type_children', 'smoking_status_never smoked',\n",
       "       'smoking_status_smokes', 'ever_married_No', 'gender_Female',\n",
       "       'gender_Other'],\n",
       "      dtype='object')"
      ]
     },
     "execution_count": 13,
     "metadata": {},
     "output_type": "execute_result"
    }
   ],
   "source": [
    "df.columns"
   ]
  },
  {
   "cell_type": "markdown",
   "id": "f36e25f2",
   "metadata": {
    "papermill": {
     "duration": 0.011875,
     "end_time": "2024-06-25T18:42:22.826611",
     "exception": false,
     "start_time": "2024-06-25T18:42:22.814736",
     "status": "completed"
    },
    "tags": []
   },
   "source": [
    "# Data Split"
   ]
  },
  {
   "cell_type": "code",
   "execution_count": 14,
   "id": "a980af8c",
   "metadata": {
    "execution": {
     "iopub.execute_input": "2024-06-25T18:42:22.853943Z",
     "iopub.status.busy": "2024-06-25T18:42:22.853499Z",
     "iopub.status.idle": "2024-06-25T18:42:22.866011Z",
     "shell.execute_reply": "2024-06-25T18:42:22.864996Z"
    },
    "papermill": {
     "duration": 0.029436,
     "end_time": "2024-06-25T18:42:22.869130",
     "exception": false,
     "start_time": "2024-06-25T18:42:22.839694",
     "status": "completed"
    },
    "tags": []
   },
   "outputs": [],
   "source": [
    "X = df.drop('stroke',axis=1)\n",
    "y = df['stroke']\n",
    "X_train,X_valid,y_train,y_valid = train_test_split(X,y,test_size = 0.2,random_state=42) \n"
   ]
  },
  {
   "cell_type": "markdown",
   "id": "abafbaf2",
   "metadata": {
    "papermill": {
     "duration": 0.012184,
     "end_time": "2024-06-25T18:42:22.893990",
     "exception": false,
     "start_time": "2024-06-25T18:42:22.881806",
     "status": "completed"
    },
    "tags": []
   },
   "source": [
    "# Model Selection"
   ]
  },
  {
   "cell_type": "markdown",
   "id": "98d116d4",
   "metadata": {
    "papermill": {
     "duration": 0.012896,
     "end_time": "2024-06-25T18:42:23.074593",
     "exception": false,
     "start_time": "2024-06-25T18:42:23.061697",
     "status": "completed"
    },
    "tags": []
   },
   "source": [
    "**Train Logistic Regression Classifier**"
   ]
  },
  {
   "cell_type": "code",
   "execution_count": 15,
   "id": "6407e575",
   "metadata": {
    "execution": {
     "iopub.execute_input": "2024-06-25T18:42:28.205826Z",
     "iopub.status.busy": "2024-06-25T18:42:28.205336Z",
     "iopub.status.idle": "2024-06-25T18:42:28.289859Z",
     "shell.execute_reply": "2024-06-25T18:42:28.287961Z"
    },
    "papermill": {
     "duration": 0.104998,
     "end_time": "2024-06-25T18:42:28.294463",
     "exception": false,
     "start_time": "2024-06-25T18:42:28.189465",
     "status": "completed"
    },
    "tags": []
   },
   "outputs": [
    {
     "data": {
      "text/html": [
       "<style>#sk-container-id-1 {color: black;background-color: white;}#sk-container-id-1 pre{padding: 0;}#sk-container-id-1 div.sk-toggleable {background-color: white;}#sk-container-id-1 label.sk-toggleable__label {cursor: pointer;display: block;width: 100%;margin-bottom: 0;padding: 0.3em;box-sizing: border-box;text-align: center;}#sk-container-id-1 label.sk-toggleable__label-arrow:before {content: \"▸\";float: left;margin-right: 0.25em;color: #696969;}#sk-container-id-1 label.sk-toggleable__label-arrow:hover:before {color: black;}#sk-container-id-1 div.sk-estimator:hover label.sk-toggleable__label-arrow:before {color: black;}#sk-container-id-1 div.sk-toggleable__content {max-height: 0;max-width: 0;overflow: hidden;text-align: left;background-color: #f0f8ff;}#sk-container-id-1 div.sk-toggleable__content pre {margin: 0.2em;color: black;border-radius: 0.25em;background-color: #f0f8ff;}#sk-container-id-1 input.sk-toggleable__control:checked~div.sk-toggleable__content {max-height: 200px;max-width: 100%;overflow: auto;}#sk-container-id-1 input.sk-toggleable__control:checked~label.sk-toggleable__label-arrow:before {content: \"▾\";}#sk-container-id-1 div.sk-estimator input.sk-toggleable__control:checked~label.sk-toggleable__label {background-color: #d4ebff;}#sk-container-id-1 div.sk-label input.sk-toggleable__control:checked~label.sk-toggleable__label {background-color: #d4ebff;}#sk-container-id-1 input.sk-hidden--visually {border: 0;clip: rect(1px 1px 1px 1px);clip: rect(1px, 1px, 1px, 1px);height: 1px;margin: -1px;overflow: hidden;padding: 0;position: absolute;width: 1px;}#sk-container-id-1 div.sk-estimator {font-family: monospace;background-color: #f0f8ff;border: 1px dotted black;border-radius: 0.25em;box-sizing: border-box;margin-bottom: 0.5em;}#sk-container-id-1 div.sk-estimator:hover {background-color: #d4ebff;}#sk-container-id-1 div.sk-parallel-item::after {content: \"\";width: 100%;border-bottom: 1px solid gray;flex-grow: 1;}#sk-container-id-1 div.sk-label:hover label.sk-toggleable__label {background-color: #d4ebff;}#sk-container-id-1 div.sk-serial::before {content: \"\";position: absolute;border-left: 1px solid gray;box-sizing: border-box;top: 0;bottom: 0;left: 50%;z-index: 0;}#sk-container-id-1 div.sk-serial {display: flex;flex-direction: column;align-items: center;background-color: white;padding-right: 0.2em;padding-left: 0.2em;position: relative;}#sk-container-id-1 div.sk-item {position: relative;z-index: 1;}#sk-container-id-1 div.sk-parallel {display: flex;align-items: stretch;justify-content: center;background-color: white;position: relative;}#sk-container-id-1 div.sk-item::before, #sk-container-id-1 div.sk-parallel-item::before {content: \"\";position: absolute;border-left: 1px solid gray;box-sizing: border-box;top: 0;bottom: 0;left: 50%;z-index: -1;}#sk-container-id-1 div.sk-parallel-item {display: flex;flex-direction: column;z-index: 1;position: relative;background-color: white;}#sk-container-id-1 div.sk-parallel-item:first-child::after {align-self: flex-end;width: 50%;}#sk-container-id-1 div.sk-parallel-item:last-child::after {align-self: flex-start;width: 50%;}#sk-container-id-1 div.sk-parallel-item:only-child::after {width: 0;}#sk-container-id-1 div.sk-dashed-wrapped {border: 1px dashed gray;margin: 0 0.4em 0.5em 0.4em;box-sizing: border-box;padding-bottom: 0.4em;background-color: white;}#sk-container-id-1 div.sk-label label {font-family: monospace;font-weight: bold;display: inline-block;line-height: 1.2em;}#sk-container-id-1 div.sk-label-container {text-align: center;}#sk-container-id-1 div.sk-container {/* jupyter's `normalize.less` sets `[hidden] { display: none; }` but bootstrap.min.css set `[hidden] { display: none !important; }` so we also need the `!important` here to be able to override the default hidden behavior on the sphinx rendered scikit-learn.org. See: https://github.com/scikit-learn/scikit-learn/issues/21755 */display: inline-block !important;position: relative;}#sk-container-id-1 div.sk-text-repr-fallback {display: none;}</style><div id=\"sk-container-id-1\" class=\"sk-top-container\"><div class=\"sk-text-repr-fallback\"><pre>LogisticRegression()</pre><b>In a Jupyter environment, please rerun this cell to show the HTML representation or trust the notebook. <br />On GitHub, the HTML representation is unable to render, please try loading this page with nbviewer.org.</b></div><div class=\"sk-container\" hidden><div class=\"sk-item\"><div class=\"sk-estimator sk-toggleable\"><input class=\"sk-toggleable__control sk-hidden--visually\" id=\"sk-estimator-id-1\" type=\"checkbox\" checked><label for=\"sk-estimator-id-1\" class=\"sk-toggleable__label sk-toggleable__label-arrow\">LogisticRegression</label><div class=\"sk-toggleable__content\"><pre>LogisticRegression()</pre></div></div></div></div></div>"
      ],
      "text/plain": [
       "LogisticRegression()"
      ]
     },
     "execution_count": 15,
     "metadata": {},
     "output_type": "execute_result"
    }
   ],
   "source": [
    "# Instantiate Logistic Regression model\n",
    "logreg = LogisticRegression()\n",
    "\n",
    "# Train the model\n",
    "logreg.fit(X_train, y_train)\n"
   ]
  },
  {
   "cell_type": "markdown",
   "id": "b954f13b",
   "metadata": {},
   "source": [
    "Predict the model output"
   ]
  },
  {
   "cell_type": "code",
   "execution_count": 16,
   "id": "cf47183b",
   "metadata": {},
   "outputs": [
    {
     "name": "stdout",
     "output_type": "stream",
     "text": [
      "Accuracy: 0.9393346379647749\n"
     ]
    }
   ],
   "source": [
    "\n",
    "# Predict on validation set\n",
    "y_pred = logreg.predict(X_valid)\n",
    "\n",
    "# Calculate accuracy\n",
    "accuracy = accuracy_score(y_valid, y_pred)\n",
    "print(f'Accuracy: {accuracy}')"
   ]
  }
 ],
 "metadata": {
  "kaggle": {
   "accelerator": "none",
   "dataSources": [
    {
     "datasetId": 1120859,
     "sourceId": 1882037,
     "sourceType": "datasetVersion"
    }
   ],
   "dockerImageVersionId": 30732,
   "isGpuEnabled": false,
   "isInternetEnabled": true,
   "language": "python",
   "sourceType": "notebook"
  },
  "kernelspec": {
   "display_name": "Python 3 (ipykernel)",
   "language": "python",
   "name": "python3"
  },
  "language_info": {
   "codemirror_mode": {
    "name": "ipython",
    "version": 3
   },
   "file_extension": ".py",
   "mimetype": "text/x-python",
   "name": "python",
   "nbconvert_exporter": "python",
   "pygments_lexer": "ipython3",
   "version": "3.11.7"
  },
  "papermill": {
   "default_parameters": {},
   "duration": 16.614442,
   "end_time": "2024-06-25T18:42:30.022664",
   "environment_variables": {},
   "exception": null,
   "input_path": "__notebook__.ipynb",
   "output_path": "__notebook__.ipynb",
   "parameters": {},
   "start_time": "2024-06-25T18:42:13.408222",
   "version": "2.5.0"
  }
 },
 "nbformat": 4,
 "nbformat_minor": 5
}
