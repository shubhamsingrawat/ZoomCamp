{
 "cells": [
  {
   "cell_type": "code",
   "execution_count": 1,
   "id": "37aefd8e-74a7-48e4-ac95-003d98cb0789",
   "metadata": {},
   "outputs": [],
   "source": [
    "from mlflow.tracking import MlflowClient\n",
    "\n",
    "MLFLOW_TRACKING_URI = \"sqlite:///mlflow.db\""
   ]
  },
  {
   "cell_type": "code",
   "execution_count": 2,
   "id": "b016dc6f-9959-4141-baa5-a3382a27186a",
   "metadata": {},
   "outputs": [],
   "source": [
    "client = MlflowClient(tracking_uri=MLFLOW_TRACKING_URI)"
   ]
  },
  {
   "cell_type": "code",
   "execution_count": 7,
   "id": "53087173-b0af-4be8-a9c0-6f0da5e40e26",
   "metadata": {},
   "outputs": [
    {
     "data": {
      "text/plain": [
       "[<Experiment: artifact_location='/workspaces/project/section-2/mlruns/1', creation_time=1719853039311, experiment_id='1', last_update_time=1719853039311, lifecycle_stage='active', name='project-experiment', tags={}>,\n",
       " <Experiment: artifact_location='mlflow-artifacts:/0', creation_time=1719852963603, experiment_id='0', last_update_time=1719852963603, lifecycle_stage='active', name='Default', tags={}>]"
      ]
     },
     "execution_count": 7,
     "metadata": {},
     "output_type": "execute_result"
    }
   ],
   "source": [
    "client.search_experiments()"
   ]
  },
  {
   "cell_type": "code",
   "execution_count": 8,
   "id": "a5a470fb-8000-4982-aad9-8a4793be0eea",
   "metadata": {},
   "outputs": [],
   "source": [
    "from mlflow.entities import ViewType\n",
    "\n",
    "runs = client.search_runs(\n",
    "    experiment_ids='1',\n",
    "    filter_string=\"metrics.accuracy < 7\",\n",
    "    run_view_type=ViewType.ACTIVE_ONLY,\n",
    "    max_results=5,\n",
    "    order_by=[\"metrics.accuracy ASC\"]\n",
    ")"
   ]
  },
  {
   "cell_type": "code",
   "execution_count": 10,
   "id": "a55ec05d-f95b-458e-95c5-43f2fc982d69",
   "metadata": {},
   "outputs": [
    {
     "name": "stdout",
     "output_type": "stream",
     "text": [
      "run id: 45490009a7864814b3b4b0fdad5a8d52, accuracy: 0.9393\n",
      "run id: f91b137207d74e22961f8df62938ea96, accuracy: 0.9393\n",
      "run id: af1dc8c7e1d44490abcd244e7e95e2ca, accuracy: 0.9393\n",
      "run id: efef04d3fc3a4bee94cd9c03648f82e2, accuracy: 0.9393\n",
      "run id: 60f0b5e5336f474c8e034e32e9275f1e, accuracy: 0.9393\n"
     ]
    }
   ],
   "source": [
    "for run in runs:\n",
    "    print(f\"run id: {run.info.run_id}, accuracy: {run.data.metrics['accuracy']:.4f}\")"
   ]
  },
  {
   "cell_type": "markdown",
   "id": "20ef0b42-d303-4717-90df-1f0fade5d516",
   "metadata": {},
   "source": [
    "Interacting with Model Registry"
   ]
  },
  {
   "cell_type": "code",
   "execution_count": 11,
   "id": "9a7fab2e-c79f-4267-a35f-2bc04f4154ba",
   "metadata": {},
   "outputs": [],
   "source": [
    "import mlflow\n",
    "\n",
    "mlflow.set_tracking_uri(MLFLOW_TRACKING_URI)"
   ]
  },
  {
   "cell_type": "code",
   "execution_count": 12,
   "id": "d735f34d-65ac-49ff-9c40-8543dbed0244",
   "metadata": {},
   "outputs": [
    {
     "name": "stderr",
     "output_type": "stream",
     "text": [
      "Successfully registered model 'project-health-stroke'.\n",
      "Created version '1' of model 'project-health-stroke'.\n"
     ]
    },
    {
     "data": {
      "text/plain": [
       "<ModelVersion: aliases=[], creation_timestamp=1719856861826, current_stage='None', description=None, last_updated_timestamp=1719856861826, name='project-health-stroke', run_id='45490009a7864814b3b4b0fdad5a8d52', run_link=None, source='/workspaces/project/section-2/mlruns/1/45490009a7864814b3b4b0fdad5a8d52/artifacts/model', status='READY', status_message=None, tags={}, user_id=None, version=1>"
      ]
     },
     "execution_count": 12,
     "metadata": {},
     "output_type": "execute_result"
    }
   ],
   "source": [
    "run_id = \"45490009a7864814b3b4b0fdad5a8d52\"\n",
    "model_uri = f\"runs:/{run_id}/model\"\n",
    "mlflow.register_model(model_uri=model_uri, name=\"project-health-stroke\")"
   ]
  },
  {
   "cell_type": "code",
   "execution_count": 13,
   "id": "52c303af-e22c-4556-a6da-8d9f71ae41cd",
   "metadata": {},
   "outputs": [
    {
     "data": {
      "text/plain": [
       "[<RegisteredModel: aliases={}, creation_timestamp=1719856861759, description=None, last_updated_timestamp=1719856861826, latest_versions=[<ModelVersion: aliases=[], creation_timestamp=1719856861826, current_stage='None', description=None, last_updated_timestamp=1719856861826, name='project-health-stroke', run_id='45490009a7864814b3b4b0fdad5a8d52', run_link=None, source='/workspaces/project/section-2/mlruns/1/45490009a7864814b3b4b0fdad5a8d52/artifacts/model', status='READY', status_message=None, tags={}, user_id=None, version=1>], name='project-health-stroke', tags={}>]"
      ]
     },
     "execution_count": 13,
     "metadata": {},
     "output_type": "execute_result"
    }
   ],
   "source": [
    "client.search_registered_models()"
   ]
  },
  {
   "cell_type": "markdown",
   "id": "6da68efb-12a8-481f-a615-1d2c144470b4",
   "metadata": {},
   "source": [
    "Verify the models registered wrt its stages"
   ]
  },
  {
   "cell_type": "code",
   "execution_count": 14,
   "id": "109c13fa-861b-4340-bf60-a8f58376be3d",
   "metadata": {},
   "outputs": [
    {
     "name": "stdout",
     "output_type": "stream",
     "text": [
      "version: 1, stage: None\n"
     ]
    },
    {
     "name": "stderr",
     "output_type": "stream",
     "text": [
      "/tmp/ipykernel_32597/3731493744.py:2: FutureWarning: ``mlflow.tracking.client.MlflowClient.get_latest_versions`` is deprecated since 2.9.0. Model registry stages will be removed in a future major release. To learn more about the deprecation of model registry stages, see our migration guide here: https://mlflow.org/docs/latest/model-registry.html#migrating-from-stages\n",
      "  latest_versions = client.get_latest_versions(name=model_name)\n"
     ]
    }
   ],
   "source": [
    "model_name = \"project-health-stroke\"\n",
    "latest_versions = client.get_latest_versions(name=model_name)\n",
    "\n",
    "for version in latest_versions:\n",
    "    print(f\"version: {version.version}, stage: {version.current_stage}\")"
   ]
  },
  {
   "cell_type": "markdown",
   "id": "dcc49ac6-9aeb-49f6-ac8c-53251987d032",
   "metadata": {},
   "source": [
    "Manually transition the stage of particular version of model"
   ]
  },
  {
   "cell_type": "code",
   "execution_count": 15,
   "id": "6537d424-fde4-4071-b8e1-97153e027855",
   "metadata": {},
   "outputs": [
    {
     "name": "stderr",
     "output_type": "stream",
     "text": [
      "/tmp/ipykernel_32597/1600074043.py:3: FutureWarning: ``mlflow.tracking.client.MlflowClient.transition_model_version_stage`` is deprecated since 2.9.0. Model registry stages will be removed in a future major release. To learn more about the deprecation of model registry stages, see our migration guide here: https://mlflow.org/docs/latest/model-registry.html#migrating-from-stages\n",
      "  client.transition_model_version_stage(\n"
     ]
    },
    {
     "data": {
      "text/plain": [
       "<ModelVersion: aliases=[], creation_timestamp=1719856861826, current_stage='Staging', description=None, last_updated_timestamp=1719857018484, name='project-health-stroke', run_id='45490009a7864814b3b4b0fdad5a8d52', run_link=None, source='/workspaces/project/section-2/mlruns/1/45490009a7864814b3b4b0fdad5a8d52/artifacts/model', status='READY', status_message=None, tags={}, user_id=None, version=1>"
      ]
     },
     "execution_count": 15,
     "metadata": {},
     "output_type": "execute_result"
    }
   ],
   "source": [
    "model_version = 1\n",
    "new_stage = \"Staging\"\n",
    "client.transition_model_version_stage(\n",
    "    name=model_name,\n",
    "    version=model_version,\n",
    "    stage=new_stage,\n",
    "    archive_existing_versions=False\n",
    ")"
   ]
  },
  {
   "cell_type": "markdown",
   "id": "8b97488e-30d5-41d3-9121-d9a2a92e4509",
   "metadata": {},
   "source": [
    "Update the registered models with its transition details wrt date and time\n",
    "\n",
    "It is like a description"
   ]
  },
  {
   "cell_type": "code",
   "execution_count": 16,
   "id": "718e7260-0f43-4a96-9c10-1158a8e22838",
   "metadata": {},
   "outputs": [
    {
     "data": {
      "text/plain": [
       "<ModelVersion: aliases=[], creation_timestamp=1719856861826, current_stage='Staging', description='The model version 1 was transitioned to Staging on 2024-07-01', last_updated_timestamp=1719857047766, name='project-health-stroke', run_id='45490009a7864814b3b4b0fdad5a8d52', run_link=None, source='/workspaces/project/section-2/mlruns/1/45490009a7864814b3b4b0fdad5a8d52/artifacts/model', status='READY', status_message=None, tags={}, user_id=None, version=1>"
      ]
     },
     "execution_count": 16,
     "metadata": {},
     "output_type": "execute_result"
    }
   ],
   "source": [
    "from datetime import datetime\n",
    "\n",
    "date = datetime.today().date()\n",
    "client.update_model_version(\n",
    "    name=model_name,\n",
    "    version=model_version,\n",
    "    description=f\"The model version {model_version} was transitioned to {new_stage} on {date}\"\n",
    ")"
   ]
  },
  {
   "cell_type": "code",
   "execution_count": null,
   "id": "f20edbc2-8d9b-4fa6-9cd6-d5d7c0f1f28a",
   "metadata": {},
   "outputs": [],
   "source": []
  },
  {
   "cell_type": "markdown",
   "id": "03ceb32f-0ea7-4224-b42d-01ff42b1dd50",
   "metadata": {},
   "source": [
    "Check the staged version code rmse is predicted good with the test data and move to production\n",
    "\n",
    "we can move to prod and also can check the predictions"
   ]
  },
  {
   "cell_type": "code",
   "execution_count": null,
   "id": "6db20d57-56b9-40d9-83bb-9daf26398dff",
   "metadata": {},
   "outputs": [],
   "source": [
    "'''\n",
    "client.transition_model_version_stage(\n",
    "    name=model_name,\n",
    "    version=1,\n",
    "    stage=\"Production\",\n",
    "    archive_existing_versions=True\n",
    ")\n",
    "'''"
   ]
  }
 ],
 "metadata": {
  "kernelspec": {
   "display_name": "Python 3 (ipykernel)",
   "language": "python",
   "name": "python3"
  },
  "language_info": {
   "codemirror_mode": {
    "name": "ipython",
    "version": 3
   },
   "file_extension": ".py",
   "mimetype": "text/x-python",
   "name": "python",
   "nbconvert_exporter": "python",
   "pygments_lexer": "ipython3",
   "version": "3.9.19"
  }
 },
 "nbformat": 4,
 "nbformat_minor": 5
}
