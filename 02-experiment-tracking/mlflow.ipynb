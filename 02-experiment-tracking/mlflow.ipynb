{
 "cells": [
  {
   "cell_type": "code",
   "execution_count": 1,
   "id": "b27628c7",
   "metadata": {},
   "outputs": [],
   "source": [
    "import mlflow\n",
    "import mlflow.sklearn"
   ]
  },
  {
   "cell_type": "code",
   "execution_count": 2,
   "id": "22b08f0c",
   "metadata": {},
   "outputs": [
    {
     "name": "stderr",
     "output_type": "stream",
     "text": [
      "2024/07/01 16:57:19 INFO mlflow.tracking.fluent: Experiment with name 'project-experiment' does not exist. Creating a new experiment.\n"
     ]
    },
    {
     "data": {
      "text/plain": [
       "<Experiment: artifact_location='/workspaces/project/section-2/mlruns/1', creation_time=1719853039311, experiment_id='1', last_update_time=1719853039311, lifecycle_stage='active', name='project-experiment', tags={}>"
      ]
     },
     "execution_count": 2,
     "metadata": {},
     "output_type": "execute_result"
    }
   ],
   "source": [
    "mlflow.set_tracking_uri('sqlite:///mlflow.db')\n",
    "mlflow.set_experiment('project-experiment')"
   ]
  },
  {
   "cell_type": "code",
   "execution_count": 24,
   "id": "c4e2d8d8",
   "metadata": {
    "_cell_guid": "b1076dfc-b9ad-4769-8c92-a6c4dae69d19",
    "_uuid": "8f2839f25d086af736a60e9eeb907d3b93b6e0e5",
    "papermill": {
     "duration": 1.220006,
     "end_time": "2024-06-25T18:42:18.223272",
     "exception": false,
     "start_time": "2024-06-25T18:42:17.003266",
     "status": "completed"
    },
    "tags": []
   },
   "outputs": [],
   "source": [
    "import numpy as np \n",
    "import pandas as pd\n",
    "import matplotlib.pyplot as plt\n",
    "import seaborn as sns\n",
    "from sklearn.model_selection import train_test_split\n",
    "from sklearn.linear_model import LogisticRegression\n",
    "from sklearn.metrics import accuracy_score\n",
    "import warnings\n",
    "warnings.filterwarnings('ignore')"
   ]
  },
  {
   "cell_type": "code",
   "execution_count": 5,
   "id": "8874e6b2",
   "metadata": {
    "papermill": {
     "duration": 0.115282,
     "end_time": "2024-06-25T18:42:18.374586",
     "exception": false,
     "start_time": "2024-06-25T18:42:18.259304",
     "status": "completed"
    },
    "tags": []
   },
   "outputs": [
    {
     "data": {
      "text/html": [
       "<div>\n",
       "<style scoped>\n",
       "    .dataframe tbody tr th:only-of-type {\n",
       "        vertical-align: middle;\n",
       "    }\n",
       "\n",
       "    .dataframe tbody tr th {\n",
       "        vertical-align: top;\n",
       "    }\n",
       "\n",
       "    .dataframe thead th {\n",
       "        text-align: right;\n",
       "    }\n",
       "</style>\n",
       "<table border=\"1\" class=\"dataframe\">\n",
       "  <thead>\n",
       "    <tr style=\"text-align: right;\">\n",
       "      <th></th>\n",
       "      <th>id</th>\n",
       "      <th>gender</th>\n",
       "      <th>age</th>\n",
       "      <th>hypertension</th>\n",
       "      <th>heart_disease</th>\n",
       "      <th>ever_married</th>\n",
       "      <th>work_type</th>\n",
       "      <th>Residence_type</th>\n",
       "      <th>avg_glucose_level</th>\n",
       "      <th>bmi</th>\n",
       "      <th>smoking_status</th>\n",
       "      <th>stroke</th>\n",
       "    </tr>\n",
       "  </thead>\n",
       "  <tbody>\n",
       "    <tr>\n",
       "      <th>0</th>\n",
       "      <td>9046</td>\n",
       "      <td>Male</td>\n",
       "      <td>67.0</td>\n",
       "      <td>0</td>\n",
       "      <td>1</td>\n",
       "      <td>Yes</td>\n",
       "      <td>Private</td>\n",
       "      <td>Urban</td>\n",
       "      <td>228.69</td>\n",
       "      <td>36.6</td>\n",
       "      <td>formerly smoked</td>\n",
       "      <td>1</td>\n",
       "    </tr>\n",
       "    <tr>\n",
       "      <th>1</th>\n",
       "      <td>51676</td>\n",
       "      <td>Female</td>\n",
       "      <td>61.0</td>\n",
       "      <td>0</td>\n",
       "      <td>0</td>\n",
       "      <td>Yes</td>\n",
       "      <td>Self-employed</td>\n",
       "      <td>Rural</td>\n",
       "      <td>202.21</td>\n",
       "      <td>NaN</td>\n",
       "      <td>never smoked</td>\n",
       "      <td>1</td>\n",
       "    </tr>\n",
       "  </tbody>\n",
       "</table>\n",
       "</div>"
      ],
      "text/plain": [
       "      id  gender   age  hypertension  heart_disease ever_married  \\\n",
       "0   9046    Male  67.0             0              1          Yes   \n",
       "1  51676  Female  61.0             0              0          Yes   \n",
       "\n",
       "       work_type Residence_type  avg_glucose_level   bmi   smoking_status  \\\n",
       "0        Private          Urban             228.69  36.6  formerly smoked   \n",
       "1  Self-employed          Rural             202.21   NaN     never smoked   \n",
       "\n",
       "   stroke  \n",
       "0       1  \n",
       "1       1  "
      ]
     },
     "execution_count": 5,
     "metadata": {},
     "output_type": "execute_result"
    }
   ],
   "source": [
    "data = pd.read_csv('healthcare-dataset.csv')\n",
    "data.head(2)"
   ]
  },
  {
   "cell_type": "code",
   "execution_count": 6,
   "id": "7c6bc3a7",
   "metadata": {
    "papermill": {
     "duration": 0.064229,
     "end_time": "2024-06-25T18:42:18.530129",
     "exception": false,
     "start_time": "2024-06-25T18:42:18.465900",
     "status": "completed"
    },
    "tags": []
   },
   "outputs": [
    {
     "data": {
      "text/plain": [
       "(5110, 12)"
      ]
     },
     "execution_count": 6,
     "metadata": {},
     "output_type": "execute_result"
    }
   ],
   "source": [
    "data.shape"
   ]
  },
  {
   "cell_type": "code",
   "execution_count": 7,
   "id": "3658ed2c",
   "metadata": {
    "papermill": {
     "duration": 0.5184,
     "end_time": "2024-06-25T18:42:22.486701",
     "exception": false,
     "start_time": "2024-06-25T18:42:21.968301",
     "status": "completed"
    },
    "tags": []
   },
   "outputs": [],
   "source": [
    "from sklearn.impute import SimpleImputer\n",
    "from sklearn.preprocessing import MinMaxScaler\n",
    "from sklearn.preprocessing import OneHotEncoder"
   ]
  },
  {
   "cell_type": "code",
   "execution_count": 8,
   "id": "02ff6702",
   "metadata": {
    "papermill": {
     "duration": 0.038689,
     "end_time": "2024-06-25T18:42:22.539089",
     "exception": false,
     "start_time": "2024-06-25T18:42:22.500400",
     "status": "completed"
    },
    "tags": []
   },
   "outputs": [],
   "source": [
    "#1st impute/fill the missing values\n",
    "#only BMI has missing values \n",
    "imputer = SimpleImputer(strategy = 'mean')\n",
    "data['bmi']=imputer.fit_transform(data[['bmi']])\n",
    "encoded_data= data.copy()\n",
    "\n",
    "#2nd Scale down the numerical features\n",
    "features_to_scale=['age','bmi']\n",
    "scaler = MinMaxScaler()\n",
    "encoded_data[features_to_scale]=scaler.fit_transform(encoded_data[features_to_scale])"
   ]
  },
  {
   "cell_type": "code",
   "execution_count": 9,
   "id": "292d500f",
   "metadata": {
    "papermill": {
     "duration": 0.034517,
     "end_time": "2024-06-25T18:42:22.587542",
     "exception": false,
     "start_time": "2024-06-25T18:42:22.553025",
     "status": "completed"
    },
    "tags": []
   },
   "outputs": [],
   "source": [
    "#as the 'avg glucose level dosent have a normal distribution hence i am usign QuantileTransformer here \n",
    "from sklearn.preprocessing import QuantileTransformer\n",
    "\n",
    "# Initialize QuantileTransformer\n",
    "scaler = QuantileTransformer(output_distribution='uniform')\n",
    "\n",
    "# Apply quantile transformation to avg_glucose_level\n",
    "encoded_data['avg_glucose_level'] = scaler.fit_transform(encoded_data[['avg_glucose_level']])"
   ]
  },
  {
   "cell_type": "code",
   "execution_count": 10,
   "id": "4b1fdb64",
   "metadata": {
    "papermill": {
     "duration": 0.030642,
     "end_time": "2024-06-25T18:42:22.630765",
     "exception": false,
     "start_time": "2024-06-25T18:42:22.600123",
     "status": "completed"
    },
    "tags": []
   },
   "outputs": [
    {
     "data": {
      "text/plain": [
       "Index(['id', 'gender', 'age', 'hypertension', 'heart_disease', 'ever_married',\n",
       "       'work_type', 'Residence_type', 'avg_glucose_level', 'bmi',\n",
       "       'smoking_status', 'stroke'],\n",
       "      dtype='object')"
      ]
     },
     "execution_count": 10,
     "metadata": {},
     "output_type": "execute_result"
    }
   ],
   "source": [
    "df = encoded_data.copy()\n",
    "df.columns"
   ]
  },
  {
   "cell_type": "code",
   "execution_count": 11,
   "id": "693b7b23",
   "metadata": {
    "papermill": {
     "duration": 0.046323,
     "end_time": "2024-06-25T18:42:22.689774",
     "exception": false,
     "start_time": "2024-06-25T18:42:22.643451",
     "status": "completed"
    },
    "tags": []
   },
   "outputs": [],
   "source": [
    "# List of columns to one-hot encode\n",
    "columns_to_encode = ['Residence_type', 'work_type', 'smoking_status','ever_married','gender']\n",
    "\n",
    "# Iterate through each column and apply pd.get_dummies\n",
    "for column in columns_to_encode:\n",
    "    encoded_column = pd.get_dummies(df[column], prefix=column)\n",
    "    df = pd.concat([df, encoded_column], axis=1)\n",
    "    df = df.drop(columns=[column],axis=1)\n",
    "\n",
    "# Convert boolean to integers\n",
    "df = df.astype(int)"
   ]
  },
  {
   "cell_type": "code",
   "execution_count": 12,
   "id": "ed7c7881",
   "metadata": {
    "papermill": {
     "duration": 0.0752,
     "end_time": "2024-06-25T18:42:22.777985",
     "exception": false,
     "start_time": "2024-06-25T18:42:22.702785",
     "status": "completed"
    },
    "tags": []
   },
   "outputs": [],
   "source": [
    "df.drop('id',axis=1,inplace=True)"
   ]
  },
  {
   "cell_type": "code",
   "execution_count": 13,
   "id": "a980af8c",
   "metadata": {
    "papermill": {
     "duration": 0.029436,
     "end_time": "2024-06-25T18:42:22.869130",
     "exception": false,
     "start_time": "2024-06-25T18:42:22.839694",
     "status": "completed"
    },
    "tags": []
   },
   "outputs": [],
   "source": [
    "X = df.drop('stroke',axis=1)\n",
    "y = df['stroke']\n",
    "X_train,X_valid,y_train,y_valid = train_test_split(X,y,test_size = 0.2,random_state=42) "
   ]
  },
  {
   "cell_type": "code",
   "execution_count": 16,
   "id": "2520835e-3930-432d-8b94-d58568056249",
   "metadata": {},
   "outputs": [],
   "source": [
    "import pickle"
   ]
  },
  {
   "cell_type": "code",
   "execution_count": 19,
   "id": "047ec02b-37e0-4c4b-953f-fff2e31f880e",
   "metadata": {},
   "outputs": [],
   "source": [
    "with open('models/log_reg.bin', 'wb') as f_out:\n",
    "    pickle.dump((logreg), f_out)"
   ]
  },
  {
   "cell_type": "code",
   "execution_count": 33,
   "id": "fab324bf-9715-4ad1-a028-42f8f7ad18e3",
   "metadata": {},
   "outputs": [],
   "source": [
    "with mlflow.start_run():\n",
    "\n",
    "    mlflow.set_tag(\"developer\", \"Bhavana\")\n",
    "    mlflow.set_tag(\"algorithm\", \"logistic regression\")\n",
    "    mlflow.log_param(\"dataset\", \".healthcare-dataset.csv\")\n",
    "\n",
    "    logreg = LogisticRegression()\n",
    "    logreg.fit(X_train, y_train)\n",
    "\n",
    "    y_pred = logreg.predict(X_valid)\n",
    "\n",
    "    ## Performance metrics\n",
    "    accuracy = accuracy_score(y_valid, y_pred)\n",
    "\n",
    "    ## Log the metrics to mlflow ui\n",
    "    mlflow.log_metric(\"accuracy\", accuracy)\n",
    "\n",
    "    mlflow.log_artifact(local_path=\"models/log_reg.bin\", artifact_path=\"models_pickle\")"
   ]
  },
  {
   "cell_type": "code",
   "execution_count": 34,
   "id": "ca60b7a1-501e-41fe-b07e-054fb59f5e38",
   "metadata": {},
   "outputs": [
    {
     "name": "stdout",
     "output_type": "stream",
     "text": [
      "Accuracy: 0.9393346379647749\n"
     ]
    }
   ],
   "source": [
    "print(f'Accuracy: {accuracy}')"
   ]
  },
  {
   "cell_type": "code",
   "execution_count": null,
   "id": "e35cebe4-539d-4b98-b868-b06ea8774208",
   "metadata": {},
   "outputs": [],
   "source": []
  },
  {
   "cell_type": "code",
   "execution_count": 35,
   "id": "5c46263e-7575-4ba9-b055-ee3630b57eb3",
   "metadata": {},
   "outputs": [],
   "source": [
    "import xgboost as xgb\n",
    "\n",
    "with mlflow.start_run():\n",
    "\n",
    "    mlflow.set_tag(\"developer\", \"Bhavana\")\n",
    "    mlflow.set_tag(\"algorithm\", \"xgboost\")\n",
    "    mlflow.log_param(\"dataset\", \".healthcare-dataset.csv\")\n",
    "\n",
    "    xgb_clf = xgb.XGBClassifier(objective='binary:logistic', max_depth=3, learning_rate=0.1, n_estimators=100)\n",
    "\n",
    "    xgb_clf.fit(X_train, y_train)\n",
    "\n",
    "    with open('models/xgb.bin', 'wb') as f_out:\n",
    "        pickle.dump((xgb_clf), f_out)\n",
    "\n",
    "    xgb_y_pred = xgb_clf.predict(X_valid)\n",
    "\n",
    "    ## Performance metrics\n",
    "    xgb_accuracy = accuracy_score(y_valid, xgb_y_pred)\n",
    "\n",
    "    ## Log the metrics to mlflow ui\n",
    "    mlflow.log_metric(\"accuracy\", accuracy)\n",
    "\n",
    "    mlflow.log_artifact(local_path=\"models/xgb.bin\", artifact_path=\"models_pickle\")"
   ]
  },
  {
   "cell_type": "code",
   "execution_count": 36,
   "id": "da50b037-9514-4a24-9e15-9284de17f2be",
   "metadata": {},
   "outputs": [
    {
     "name": "stdout",
     "output_type": "stream",
     "text": [
      "Accuracy: 0.9403131115459883\n"
     ]
    }
   ],
   "source": [
    "print(f'Accuracy: {xgb_accuracy}')"
   ]
  },
  {
   "cell_type": "code",
   "execution_count": null,
   "id": "948312cc-bfc6-4776-a060-756b679aa82b",
   "metadata": {},
   "outputs": [],
   "source": []
  }
 ],
 "metadata": {
  "kaggle": {
   "accelerator": "none",
   "dataSources": [
    {
     "datasetId": 1120859,
     "sourceId": 1882037,
     "sourceType": "datasetVersion"
    }
   ],
   "dockerImageVersionId": 30732,
   "isGpuEnabled": false,
   "isInternetEnabled": true,
   "language": "python",
   "sourceType": "notebook"
  },
  "kernelspec": {
   "display_name": "Python 3 (ipykernel)",
   "language": "python",
   "name": "python3"
  },
  "language_info": {
   "codemirror_mode": {
    "name": "ipython",
    "version": 3
   },
   "file_extension": ".py",
   "mimetype": "text/x-python",
   "name": "python",
   "nbconvert_exporter": "python",
   "pygments_lexer": "ipython3",
   "version": "3.9.19"
  },
  "papermill": {
   "default_parameters": {},
   "duration": 16.614442,
   "end_time": "2024-06-25T18:42:30.022664",
   "environment_variables": {},
   "exception": null,
   "input_path": "__notebook__.ipynb",
   "output_path": "__notebook__.ipynb",
   "parameters": {},
   "start_time": "2024-06-25T18:42:13.408222",
   "version": "2.5.0"
  }
 },
 "nbformat": 4,
 "nbformat_minor": 5
}
